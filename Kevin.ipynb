{
 "cells": [
  {
   "cell_type": "code",
   "execution_count": null,
   "metadata": {},
   "outputs": [],
   "source": [
    "import os\n",
    "import pandas as pd\n",
    "import matplotlib .pyplot as plt\n",
    "import numpy as np\n",
    "help(df.to_csv)"
   ]
  },
  {
   "cell_type": "code",
   "execution_count": null,
   "metadata": {},
   "outputs": [],
   "source": [
    "help(pd.read_csv\n",
    "df = pd.read_csv(\"Clean_and_Combine.csv\")\n",
    "df=df.drop()"
   ]
  },
  {
   "cell_type": "code",
   "execution_count": null,
   "metadata": {},
   "outputs": [],
   "source": [
    "# CTE student count vs All Student count\n",
    "columns=[ 'CTE_STUDENTS_2015',\n",
    "       'ALL_STUDENTS_2015',\n",
    "        'CTE_STUDENTS_2016',  \n",
    "       'ALL_STUDENTS_2016', \n",
    "       'CTE_STUDENTS_2017', \n",
    "       'ALL_STUDENTS_2017', \n",
    "       'CTE_STUDENTS_2018', \n",
    "       'ALL_STUDENTS_2018', ]\n",
    "student_count=[]\n",
    "for c in columns:\n",
    "    student_count.append(df[c].sum())\n",
    "    \n",
    "student_count\n"
   ]
  },
  {
   "cell_type": "code",
   "execution_count": null,
   "metadata": {},
   "outputs": [],
   "source": [
    "# create a dataframe containing each type of course:\n",
    "\n",
    "df=df.sort_values(\"SERVICE\", ascending= False)\n",
    "df.head()\n"
   ]
  },
  {
   "cell_type": "code",
   "execution_count": null,
   "metadata": {},
   "outputs": [],
   "source": []
  }
 ],
 "metadata": {
  "kernelspec": {
   "display_name": "Conda [PythonData]",
   "language": "python",
   "name": "pythondata"
  },
  "language_info": {
   "codemirror_mode": {
    "name": "ipython",
    "version": 3
   },
   "file_extension": ".py",
   "mimetype": "text/x-python",
   "name": "python",
   "nbconvert_exporter": "python",
   "pygments_lexer": "ipython3",
   "version": "3.7.3"
  }
 },
 "nbformat": 4,
 "nbformat_minor": 2
}
